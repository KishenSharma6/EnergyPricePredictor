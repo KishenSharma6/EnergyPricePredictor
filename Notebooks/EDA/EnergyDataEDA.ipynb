{
 "cells": [
  {
   "cell_type": "code",
   "execution_count": 1,
   "id": "71b25ee0-b5d6-472a-b742-26c59c65f2ff",
   "metadata": {},
   "outputs": [],
   "source": [
    "import pandas as pd\n",
    "import numpy as np\n",
    "import matplotlib.pyplot as plt\n",
    "import seaborn as sns\n",
    "import os"
   ]
  },
  {
   "cell_type": "code",
   "execution_count": 2,
   "id": "dbfe9ede-5768-4f97-9519-8e22072757a5",
   "metadata": {},
   "outputs": [],
   "source": [
    "#pandas settings\n",
    "settings= {'display.max_rows': 50,\n",
    "           'display.max_columns': 200,\n",
    "           'display.width': 1000}\n",
    "\n",
    "for k, v in settings.items():\n",
    "    pd.set_option(k,v)\n",
    "    \n",
    "#matplotlib settings\n",
    "plt.style.use('ggplot')\n"
   ]
  },
  {
   "cell_type": "code",
   "execution_count": 3,
   "id": "5bc66364-8a83-4472-8a90-65c9d5f40677",
   "metadata": {},
   "outputs": [],
   "source": [
    "#Load raw data to pandas\n",
    "path= \"../../Data/Raw_Data/\"\n",
    "\n",
    "raw_energy= pd.read_csv(path + \"energy_dataset.csv\")\n",
    "raw_weather= pd.read_csv(path + \"weather_features.csv\")"
   ]
  },
  {
   "cell_type": "code",
   "execution_count": 4,
   "id": "180e6a1f-4663-4b0d-8ac5-b7ebdb66bf3f",
   "metadata": {},
   "outputs": [
    {
     "name": "stdout",
     "output_type": "stream",
     "text": [
      "Energy shape:  (35064, 29)\n"
     ]
    },
    {
     "data": {
      "text/html": [
       "<div>\n",
       "<style scoped>\n",
       "    .dataframe tbody tr th:only-of-type {\n",
       "        vertical-align: middle;\n",
       "    }\n",
       "\n",
       "    .dataframe tbody tr th {\n",
       "        vertical-align: top;\n",
       "    }\n",
       "\n",
       "    .dataframe thead th {\n",
       "        text-align: right;\n",
       "    }\n",
       "</style>\n",
       "<table border=\"1\" class=\"dataframe\">\n",
       "  <thead>\n",
       "    <tr style=\"text-align: right;\">\n",
       "      <th></th>\n",
       "      <th>time</th>\n",
       "      <th>generation biomass</th>\n",
       "      <th>generation fossil brown coal/lignite</th>\n",
       "      <th>generation fossil coal-derived gas</th>\n",
       "      <th>generation fossil gas</th>\n",
       "      <th>generation fossil hard coal</th>\n",
       "      <th>generation fossil oil</th>\n",
       "      <th>generation fossil oil shale</th>\n",
       "      <th>generation fossil peat</th>\n",
       "      <th>generation geothermal</th>\n",
       "      <th>generation hydro pumped storage aggregated</th>\n",
       "      <th>generation hydro pumped storage consumption</th>\n",
       "      <th>generation hydro run-of-river and poundage</th>\n",
       "      <th>generation hydro water reservoir</th>\n",
       "      <th>generation marine</th>\n",
       "      <th>generation nuclear</th>\n",
       "      <th>generation other</th>\n",
       "      <th>generation other renewable</th>\n",
       "      <th>generation solar</th>\n",
       "      <th>generation waste</th>\n",
       "      <th>generation wind offshore</th>\n",
       "      <th>generation wind onshore</th>\n",
       "      <th>forecast solar day ahead</th>\n",
       "      <th>forecast wind offshore eday ahead</th>\n",
       "      <th>forecast wind onshore day ahead</th>\n",
       "      <th>total load forecast</th>\n",
       "      <th>total load actual</th>\n",
       "      <th>price day ahead</th>\n",
       "      <th>price actual</th>\n",
       "    </tr>\n",
       "  </thead>\n",
       "  <tbody>\n",
       "    <tr>\n",
       "      <th>0</th>\n",
       "      <td>2015-01-01 00:00:00+01:00</td>\n",
       "      <td>447.0</td>\n",
       "      <td>329.0</td>\n",
       "      <td>0.0</td>\n",
       "      <td>4844.0</td>\n",
       "      <td>4821.0</td>\n",
       "      <td>162.0</td>\n",
       "      <td>0.0</td>\n",
       "      <td>0.0</td>\n",
       "      <td>0.0</td>\n",
       "      <td>NaN</td>\n",
       "      <td>863.0</td>\n",
       "      <td>1051.0</td>\n",
       "      <td>1899.0</td>\n",
       "      <td>0.0</td>\n",
       "      <td>7096.0</td>\n",
       "      <td>43.0</td>\n",
       "      <td>73.0</td>\n",
       "      <td>49.0</td>\n",
       "      <td>196.0</td>\n",
       "      <td>0.0</td>\n",
       "      <td>6378.0</td>\n",
       "      <td>17.0</td>\n",
       "      <td>NaN</td>\n",
       "      <td>6436.0</td>\n",
       "      <td>26118.0</td>\n",
       "      <td>25385.0</td>\n",
       "      <td>50.10</td>\n",
       "      <td>65.41</td>\n",
       "    </tr>\n",
       "    <tr>\n",
       "      <th>1</th>\n",
       "      <td>2015-01-01 01:00:00+01:00</td>\n",
       "      <td>449.0</td>\n",
       "      <td>328.0</td>\n",
       "      <td>0.0</td>\n",
       "      <td>5196.0</td>\n",
       "      <td>4755.0</td>\n",
       "      <td>158.0</td>\n",
       "      <td>0.0</td>\n",
       "      <td>0.0</td>\n",
       "      <td>0.0</td>\n",
       "      <td>NaN</td>\n",
       "      <td>920.0</td>\n",
       "      <td>1009.0</td>\n",
       "      <td>1658.0</td>\n",
       "      <td>0.0</td>\n",
       "      <td>7096.0</td>\n",
       "      <td>43.0</td>\n",
       "      <td>71.0</td>\n",
       "      <td>50.0</td>\n",
       "      <td>195.0</td>\n",
       "      <td>0.0</td>\n",
       "      <td>5890.0</td>\n",
       "      <td>16.0</td>\n",
       "      <td>NaN</td>\n",
       "      <td>5856.0</td>\n",
       "      <td>24934.0</td>\n",
       "      <td>24382.0</td>\n",
       "      <td>48.10</td>\n",
       "      <td>64.92</td>\n",
       "    </tr>\n",
       "    <tr>\n",
       "      <th>2</th>\n",
       "      <td>2015-01-01 02:00:00+01:00</td>\n",
       "      <td>448.0</td>\n",
       "      <td>323.0</td>\n",
       "      <td>0.0</td>\n",
       "      <td>4857.0</td>\n",
       "      <td>4581.0</td>\n",
       "      <td>157.0</td>\n",
       "      <td>0.0</td>\n",
       "      <td>0.0</td>\n",
       "      <td>0.0</td>\n",
       "      <td>NaN</td>\n",
       "      <td>1164.0</td>\n",
       "      <td>973.0</td>\n",
       "      <td>1371.0</td>\n",
       "      <td>0.0</td>\n",
       "      <td>7099.0</td>\n",
       "      <td>43.0</td>\n",
       "      <td>73.0</td>\n",
       "      <td>50.0</td>\n",
       "      <td>196.0</td>\n",
       "      <td>0.0</td>\n",
       "      <td>5461.0</td>\n",
       "      <td>8.0</td>\n",
       "      <td>NaN</td>\n",
       "      <td>5454.0</td>\n",
       "      <td>23515.0</td>\n",
       "      <td>22734.0</td>\n",
       "      <td>47.33</td>\n",
       "      <td>64.48</td>\n",
       "    </tr>\n",
       "    <tr>\n",
       "      <th>3</th>\n",
       "      <td>2015-01-01 03:00:00+01:00</td>\n",
       "      <td>438.0</td>\n",
       "      <td>254.0</td>\n",
       "      <td>0.0</td>\n",
       "      <td>4314.0</td>\n",
       "      <td>4131.0</td>\n",
       "      <td>160.0</td>\n",
       "      <td>0.0</td>\n",
       "      <td>0.0</td>\n",
       "      <td>0.0</td>\n",
       "      <td>NaN</td>\n",
       "      <td>1503.0</td>\n",
       "      <td>949.0</td>\n",
       "      <td>779.0</td>\n",
       "      <td>0.0</td>\n",
       "      <td>7098.0</td>\n",
       "      <td>43.0</td>\n",
       "      <td>75.0</td>\n",
       "      <td>50.0</td>\n",
       "      <td>191.0</td>\n",
       "      <td>0.0</td>\n",
       "      <td>5238.0</td>\n",
       "      <td>2.0</td>\n",
       "      <td>NaN</td>\n",
       "      <td>5151.0</td>\n",
       "      <td>22642.0</td>\n",
       "      <td>21286.0</td>\n",
       "      <td>42.27</td>\n",
       "      <td>59.32</td>\n",
       "    </tr>\n",
       "    <tr>\n",
       "      <th>4</th>\n",
       "      <td>2015-01-01 04:00:00+01:00</td>\n",
       "      <td>428.0</td>\n",
       "      <td>187.0</td>\n",
       "      <td>0.0</td>\n",
       "      <td>4130.0</td>\n",
       "      <td>3840.0</td>\n",
       "      <td>156.0</td>\n",
       "      <td>0.0</td>\n",
       "      <td>0.0</td>\n",
       "      <td>0.0</td>\n",
       "      <td>NaN</td>\n",
       "      <td>1826.0</td>\n",
       "      <td>953.0</td>\n",
       "      <td>720.0</td>\n",
       "      <td>0.0</td>\n",
       "      <td>7097.0</td>\n",
       "      <td>43.0</td>\n",
       "      <td>74.0</td>\n",
       "      <td>42.0</td>\n",
       "      <td>189.0</td>\n",
       "      <td>0.0</td>\n",
       "      <td>4935.0</td>\n",
       "      <td>9.0</td>\n",
       "      <td>NaN</td>\n",
       "      <td>4861.0</td>\n",
       "      <td>21785.0</td>\n",
       "      <td>20264.0</td>\n",
       "      <td>38.41</td>\n",
       "      <td>56.04</td>\n",
       "    </tr>\n",
       "  </tbody>\n",
       "</table>\n",
       "</div>"
      ],
      "text/plain": [
       "                        time  generation biomass  generation fossil brown coal/lignite  generation fossil coal-derived gas  generation fossil gas  generation fossil hard coal  generation fossil oil  generation fossil oil shale  generation fossil peat  generation geothermal  generation hydro pumped storage aggregated  generation hydro pumped storage consumption  generation hydro run-of-river and poundage  generation hydro water reservoir  generation marine  generation nuclear  generation other  generation other renewable  generation solar  generation waste  generation wind offshore  generation wind onshore  forecast solar day ahead  forecast wind offshore eday ahead  forecast wind onshore day ahead  total load forecast  total load actual  price day ahead  price actual\n",
       "0  2015-01-01 00:00:00+01:00               447.0                                 329.0                                 0.0                 4844.0                       4821.0                  162.0                          0.0                     0.0                    0.0                                         NaN                                        863.0                                      1051.0                            1899.0                0.0              7096.0              43.0                        73.0              49.0             196.0                       0.0                   6378.0                      17.0                                NaN                           6436.0              26118.0            25385.0            50.10         65.41\n",
       "1  2015-01-01 01:00:00+01:00               449.0                                 328.0                                 0.0                 5196.0                       4755.0                  158.0                          0.0                     0.0                    0.0                                         NaN                                        920.0                                      1009.0                            1658.0                0.0              7096.0              43.0                        71.0              50.0             195.0                       0.0                   5890.0                      16.0                                NaN                           5856.0              24934.0            24382.0            48.10         64.92\n",
       "2  2015-01-01 02:00:00+01:00               448.0                                 323.0                                 0.0                 4857.0                       4581.0                  157.0                          0.0                     0.0                    0.0                                         NaN                                       1164.0                                       973.0                            1371.0                0.0              7099.0              43.0                        73.0              50.0             196.0                       0.0                   5461.0                       8.0                                NaN                           5454.0              23515.0            22734.0            47.33         64.48\n",
       "3  2015-01-01 03:00:00+01:00               438.0                                 254.0                                 0.0                 4314.0                       4131.0                  160.0                          0.0                     0.0                    0.0                                         NaN                                       1503.0                                       949.0                             779.0                0.0              7098.0              43.0                        75.0              50.0             191.0                       0.0                   5238.0                       2.0                                NaN                           5151.0              22642.0            21286.0            42.27         59.32\n",
       "4  2015-01-01 04:00:00+01:00               428.0                                 187.0                                 0.0                 4130.0                       3840.0                  156.0                          0.0                     0.0                    0.0                                         NaN                                       1826.0                                       953.0                             720.0                0.0              7097.0              43.0                        74.0              42.0             189.0                       0.0                   4935.0                       9.0                                NaN                           4861.0              21785.0            20264.0            38.41         56.04"
      ]
     },
     "execution_count": 4,
     "metadata": {},
     "output_type": "execute_result"
    }
   ],
   "source": [
    "#preview energy data\n",
    "print(\"Energy shape: \", raw_energy.shape)\n",
    "raw_energy.head()"
   ]
  },
  {
   "cell_type": "code",
   "execution_count": 5,
   "id": "baac90c0-f5cc-4a26-a5a7-8bfbaea49baa",
   "metadata": {},
   "outputs": [
    {
     "name": "stdout",
     "output_type": "stream",
     "text": [
      "Weather shape:  (178396, 17)\n"
     ]
    },
    {
     "data": {
      "text/html": [
       "<div>\n",
       "<style scoped>\n",
       "    .dataframe tbody tr th:only-of-type {\n",
       "        vertical-align: middle;\n",
       "    }\n",
       "\n",
       "    .dataframe tbody tr th {\n",
       "        vertical-align: top;\n",
       "    }\n",
       "\n",
       "    .dataframe thead th {\n",
       "        text-align: right;\n",
       "    }\n",
       "</style>\n",
       "<table border=\"1\" class=\"dataframe\">\n",
       "  <thead>\n",
       "    <tr style=\"text-align: right;\">\n",
       "      <th></th>\n",
       "      <th>dt_iso</th>\n",
       "      <th>city_name</th>\n",
       "      <th>temp</th>\n",
       "      <th>temp_min</th>\n",
       "      <th>temp_max</th>\n",
       "      <th>pressure</th>\n",
       "      <th>humidity</th>\n",
       "      <th>wind_speed</th>\n",
       "      <th>wind_deg</th>\n",
       "      <th>rain_1h</th>\n",
       "      <th>rain_3h</th>\n",
       "      <th>snow_3h</th>\n",
       "      <th>clouds_all</th>\n",
       "      <th>weather_id</th>\n",
       "      <th>weather_main</th>\n",
       "      <th>weather_description</th>\n",
       "      <th>weather_icon</th>\n",
       "    </tr>\n",
       "  </thead>\n",
       "  <tbody>\n",
       "    <tr>\n",
       "      <th>0</th>\n",
       "      <td>2015-01-01 00:00:00+01:00</td>\n",
       "      <td>Valencia</td>\n",
       "      <td>270.475</td>\n",
       "      <td>270.475</td>\n",
       "      <td>270.475</td>\n",
       "      <td>1001</td>\n",
       "      <td>77</td>\n",
       "      <td>1</td>\n",
       "      <td>62</td>\n",
       "      <td>0.0</td>\n",
       "      <td>0.0</td>\n",
       "      <td>0.0</td>\n",
       "      <td>0</td>\n",
       "      <td>800</td>\n",
       "      <td>clear</td>\n",
       "      <td>sky is clear</td>\n",
       "      <td>01n</td>\n",
       "    </tr>\n",
       "    <tr>\n",
       "      <th>1</th>\n",
       "      <td>2015-01-01 01:00:00+01:00</td>\n",
       "      <td>Valencia</td>\n",
       "      <td>270.475</td>\n",
       "      <td>270.475</td>\n",
       "      <td>270.475</td>\n",
       "      <td>1001</td>\n",
       "      <td>77</td>\n",
       "      <td>1</td>\n",
       "      <td>62</td>\n",
       "      <td>0.0</td>\n",
       "      <td>0.0</td>\n",
       "      <td>0.0</td>\n",
       "      <td>0</td>\n",
       "      <td>800</td>\n",
       "      <td>clear</td>\n",
       "      <td>sky is clear</td>\n",
       "      <td>01n</td>\n",
       "    </tr>\n",
       "    <tr>\n",
       "      <th>2</th>\n",
       "      <td>2015-01-01 02:00:00+01:00</td>\n",
       "      <td>Valencia</td>\n",
       "      <td>269.686</td>\n",
       "      <td>269.686</td>\n",
       "      <td>269.686</td>\n",
       "      <td>1002</td>\n",
       "      <td>78</td>\n",
       "      <td>0</td>\n",
       "      <td>23</td>\n",
       "      <td>0.0</td>\n",
       "      <td>0.0</td>\n",
       "      <td>0.0</td>\n",
       "      <td>0</td>\n",
       "      <td>800</td>\n",
       "      <td>clear</td>\n",
       "      <td>sky is clear</td>\n",
       "      <td>01n</td>\n",
       "    </tr>\n",
       "    <tr>\n",
       "      <th>3</th>\n",
       "      <td>2015-01-01 03:00:00+01:00</td>\n",
       "      <td>Valencia</td>\n",
       "      <td>269.686</td>\n",
       "      <td>269.686</td>\n",
       "      <td>269.686</td>\n",
       "      <td>1002</td>\n",
       "      <td>78</td>\n",
       "      <td>0</td>\n",
       "      <td>23</td>\n",
       "      <td>0.0</td>\n",
       "      <td>0.0</td>\n",
       "      <td>0.0</td>\n",
       "      <td>0</td>\n",
       "      <td>800</td>\n",
       "      <td>clear</td>\n",
       "      <td>sky is clear</td>\n",
       "      <td>01n</td>\n",
       "    </tr>\n",
       "    <tr>\n",
       "      <th>4</th>\n",
       "      <td>2015-01-01 04:00:00+01:00</td>\n",
       "      <td>Valencia</td>\n",
       "      <td>269.686</td>\n",
       "      <td>269.686</td>\n",
       "      <td>269.686</td>\n",
       "      <td>1002</td>\n",
       "      <td>78</td>\n",
       "      <td>0</td>\n",
       "      <td>23</td>\n",
       "      <td>0.0</td>\n",
       "      <td>0.0</td>\n",
       "      <td>0.0</td>\n",
       "      <td>0</td>\n",
       "      <td>800</td>\n",
       "      <td>clear</td>\n",
       "      <td>sky is clear</td>\n",
       "      <td>01n</td>\n",
       "    </tr>\n",
       "  </tbody>\n",
       "</table>\n",
       "</div>"
      ],
      "text/plain": [
       "                      dt_iso city_name     temp  temp_min  temp_max  pressure  humidity  wind_speed  wind_deg  rain_1h  rain_3h  snow_3h  clouds_all  weather_id weather_main weather_description weather_icon\n",
       "0  2015-01-01 00:00:00+01:00  Valencia  270.475   270.475   270.475      1001        77           1        62      0.0      0.0      0.0           0         800        clear        sky is clear          01n\n",
       "1  2015-01-01 01:00:00+01:00  Valencia  270.475   270.475   270.475      1001        77           1        62      0.0      0.0      0.0           0         800        clear        sky is clear          01n\n",
       "2  2015-01-01 02:00:00+01:00  Valencia  269.686   269.686   269.686      1002        78           0        23      0.0      0.0      0.0           0         800        clear        sky is clear          01n\n",
       "3  2015-01-01 03:00:00+01:00  Valencia  269.686   269.686   269.686      1002        78           0        23      0.0      0.0      0.0           0         800        clear        sky is clear          01n\n",
       "4  2015-01-01 04:00:00+01:00  Valencia  269.686   269.686   269.686      1002        78           0        23      0.0      0.0      0.0           0         800        clear        sky is clear          01n"
      ]
     },
     "execution_count": 5,
     "metadata": {},
     "output_type": "execute_result"
    }
   ],
   "source": [
    "#preview weather data\n",
    "print(\"Weather shape: \", raw_weather.shape)\n",
    "raw_weather.head()"
   ]
  },
  {
   "cell_type": "markdown",
   "id": "76165c6a-6d05-4bad-aa08-046e1bd7b5b9",
   "metadata": {},
   "source": [
    "Data Cleaning"
   ]
  },
  {
   "cell_type": "code",
   "execution_count": 6,
   "id": "84409098-7615-4875-a965-fa77bc983a1e",
   "metadata": {},
   "outputs": [],
   "source": [
    "#Import modules\n",
    "path= \"../../\"\n",
    "os.chdir(path)"
   ]
  },
  {
   "cell_type": "code",
   "execution_count": 9,
   "id": "79a36ad0-4542-40dd-b037-a7ec547f61f9",
   "metadata": {
    "tags": []
   },
   "outputs": [
    {
     "name": "stderr",
     "output_type": "stream",
     "text": [
      "/Users/ksharma/Documents/ML Engineer/Machine Learning/Projects/Python Sandbox/EnergyPricePredictor/src/DataCleaning.py:77: FutureWarning: Dropping of nuisance columns in DataFrame reductions (with 'numeric_only=None') is deprecated; in a future version this will raise TypeError.  Select only valid columns before calling the reduction.\n",
      "  dataframe= dataframe.fillna(dataframe.mean())\n"
     ]
    }
   ],
   "source": [
    "from src.DataCleaning import clean_columns, set_time_index, kelvin_to_fahrenheit, input_mean\n",
    "        \n",
    "#Clean raw_energy\n",
    "clean_energy= set_time_index(input_mean(clean_columns(raw_energy)), time_column= \"time\")\n",
    "\n",
    "#Clean raw_weather\n",
    "clean_weather= set_time_index(clean_columns(raw_weather, cols= None), time_column= \"dt_iso\")\n",
    "\n",
    "weather_cols= [\"temp\", \"temp_min\", \"temp_max\"]\n",
    "clean_weather= kelvin_to_fahrenheit(clean_weather, weather_cols)"
   ]
  },
  {
   "cell_type": "code",
   "execution_count": 10,
   "id": "98d74ffe-090f-48ff-897c-ffbf8f01ef78",
   "metadata": {},
   "outputs": [
    {
     "name": "stdout",
     "output_type": "stream",
     "text": [
      "Old energy: (35064, 29)  New energy: (35064, 17)\n",
      "Old weather: (178396, 17)  New weather: (178396, 16)\n"
     ]
    }
   ],
   "source": [
    "#Sanity checks\n",
    "print(\"Old energy: %s  New energy: %s\" % (raw_energy.shape, clean_energy.shape))\n",
    "print(\"Old weather: %s  New weather: %s\" % (raw_weather.shape, clean_weather.shape))"
   ]
  },
  {
   "cell_type": "markdown",
   "id": "09f63b2f-670d-4a4f-bcc2-f3ace1751bfe",
   "metadata": {},
   "source": [
    "Stats about energy data"
   ]
  },
  {
   "cell_type": "code",
   "execution_count": null,
   "id": "8efbebe8-eed4-4660-bcc8-302a9a18f14c",
   "metadata": {},
   "outputs": [],
   "source": [
    "#Variable types\n",
    "clean_energy.info()"
   ]
  },
  {
   "cell_type": "code",
   "execution_count": null,
   "id": "a0f3837d-f800-4a80-8189-4fb15c5f749b",
   "metadata": {},
   "outputs": [],
   "source": [
    "#Descriptive stats\n",
    "clean_energy.describe().T"
   ]
  },
  {
   "cell_type": "markdown",
   "id": "4bad2522-aa91-4ec0-a8b6-29a867e68caa",
   "metadata": {},
   "source": [
    "# EDA"
   ]
  },
  {
   "cell_type": "markdown",
   "id": "d9462d60-8e89-410d-bc8c-0bf5d7d05619",
   "metadata": {},
   "source": [
    "TSO Prediction Metrics"
   ]
  },
  {
   "cell_type": "code",
   "execution_count": 11,
   "id": "7506fe18-2687-4f6b-8fc8-2f15aed47106",
   "metadata": {},
   "outputs": [
    {
     "name": "stdout",
     "output_type": "stream",
     "text": [
      "{'mse': 175.559, 'rmse': 13.25, 'mae': 10.485, 'mape': 0.2}\n"
     ]
    }
   ],
   "source": [
    "#Get arrays of target and predictions\n",
    "tso_preds= clean_energy.loc[:,\"price day ahead\"].values\n",
    "y= clean_energy.loc[:,\"price actual\"].values\n",
    "\n",
    "from sklearn.metrics import mean_squared_error, mean_absolute_error, mean_absolute_percentage_error\n",
    "\n",
    "#MSE, RMSE, MAE, MAPE\n",
    "mse= mean_squared_error(y, tso_preds)\n",
    "rmse= np.sqrt(mse)\n",
    "mae= mean_absolute_error(y, tso_preds)\n",
    "mape= mean_absolute_percentage_error(y, tso_preds)\n",
    "\n",
    "keys= [\"mse\", \"rmse\", \"mae\", \"mape\"]\n",
    "values= [mse, rmse, mae, mape]\n",
    "eval_metrics= {}\n",
    "for k, v in zip(keys, values):\n",
    "    eval_metrics[k]= round(v,3)\n",
    "    \n",
    "print(eval_metrics)"
   ]
  },
  {
   "cell_type": "markdown",
   "id": "74976705-dbff-4ff1-87f2-e31cf7462254",
   "metadata": {},
   "source": [
    "Visualizing tso predictions vs reality by year"
   ]
  },
  {
   "cell_type": "code",
   "execution_count": null,
   "id": "35922d94-f11e-41fe-9543-d6fd18cab9da",
   "metadata": {},
   "outputs": [],
   "source": [
    "#Break time series into plots\n",
    "years= [2015, 2016, 2017, 2018]\n",
    "\n",
    "#Plot data\n",
    "plt.figure(figsize=(10,20))\n",
    "plt.subplots_adjust(hspace=0.5)\n",
    "plt.suptitle(\"Evaluating Annual TSO Price Predictions\", fontsize=18, y=0.93)\n",
    "\n",
    "for n, y in enumerate(years):\n",
    "    mask = clean_energy.index.year == int(y)\n",
    "    include = clean_energy[mask]\n",
    "    exclude = clean_energy[~mask]\n",
    "    \n",
    "    # add a new subplot iteratively\n",
    "    ax = plt.subplot(4,1, n + 1)\n",
    "\n",
    "    # filter df and plot ticker on the new subplot axis\n",
    "    include[\"price actual\"].plot(ax=ax, alpha=.7)\n",
    "    include[\"price day ahead\"].plot(ax=ax, alpha= .7)\n",
    "    # chart formatting\n",
    "    ax.set_title(str(y).upper())\n",
    "    ax.legend(shadow= True, loc= \"lower right\", labels=[\"Truth\", \"TSO Pred\"])\n",
    "    ax.set_xlabel(\"\")"
   ]
  },
  {
   "cell_type": "markdown",
   "id": "ce1ba989-04ee-4f3c-ada7-5f2426c88ef8",
   "metadata": {},
   "source": [
    "Correlation Matrix"
   ]
  },
  {
   "cell_type": "code",
   "execution_count": null,
   "id": "f40b2319-edfd-4231-abfc-b2f50a4c76c5",
   "metadata": {},
   "outputs": [],
   "source": [
    "#drop price day ahead col for corr matrix\n",
    "temp= clean_energy.drop([\"price day ahead\"], axis= 1)\n",
    "\n",
    "#Correlation matrix\n",
    "f, ax= plt.subplots(figsize= (15,15))\n",
    "corrMatrix = temp.corr()\n",
    "sns.heatmap(corrMatrix, annot=True, linewidths= .2, cmap=\"coolwarm\")\n",
    "plt.show()"
   ]
  },
  {
   "cell_type": "markdown",
   "id": "68d0ebf5-6e8f-4988-ac76-30fab998bf10",
   "metadata": {},
   "source": [
    "Correlation matrix w/Target"
   ]
  },
  {
   "cell_type": "code",
   "execution_count": null,
   "id": "28e1b7d3-55b4-4c1f-9af0-5eea7b4ac017",
   "metadata": {},
   "outputs": [],
   "source": [
    "#features with greatest correlation\n",
    "corrMatrix[\"price actual\"][:-1].sort_values().plot(kind= \"barh\");"
   ]
  },
  {
   "cell_type": "markdown",
   "id": "173dd229-7d8b-4a54-a604-e69726a4c804",
   "metadata": {},
   "source": [
    "Weather and target"
   ]
  },
  {
   "cell_type": "code",
   "execution_count": null,
   "id": "88ffaaf9-455a-422a-bfc6-b74b4f51813c",
   "metadata": {},
   "outputs": [],
   "source": [
    "#fix trailing/leading whitespaces in cityname\n",
    "clean_weather['city_name']= clean_weather['city_name'].apply(lambda x: x.strip())"
   ]
  },
  {
   "cell_type": "code",
   "execution_count": null,
   "id": "086fdd0d-3e5b-4b1d-be54-c235c6b5a252",
   "metadata": {},
   "outputs": [],
   "source": [
    "#Create list of dataframes of city_name temps to merge\n",
    "d= []\n",
    "for index, city in enumerate(clean_weather.city_name.unique()):\n",
    "    temp= pd.DataFrame(data= clean_weather.loc[clean_weather[\"city_name\"] == city, \"temp\"],)\n",
    "    temp.columns= [city]\n",
    "    d.append(temp)"
   ]
  },
  {
   "cell_type": "code",
   "execution_count": null,
   "id": "d2e7ca7a-4394-41da-aeb7-0d4cbffba4cd",
   "metadata": {},
   "outputs": [],
   "source": [
    "for i in range(len(d)):\n",
    "    if i <= 1:\n",
    "        temp_merge= pd.merge(d[i-1], d[i], how= \"inner\", left_index=True, right_index=True)\n",
    "    else:\n",
    "        temp_merge= pd.merge(temp_merge, d[i], how= \"inner\", left_index=True, right_index=True)\n",
    "temp_merge"
   ]
  },
  {
   "cell_type": "code",
   "execution_count": null,
   "id": "7cafc883-aefd-44a5-929e-0ccb9fd676ca",
   "metadata": {},
   "outputs": [],
   "source": [
    "final_df= pd.merge(clean_energy, temp_merge, how= \"left\", left_index=True, right_index=True)\n",
    "final_df.head()"
   ]
  },
  {
   "cell_type": "code",
   "execution_count": null,
   "id": "15353f02-6063-48a6-833f-76dddb597a0b",
   "metadata": {},
   "outputs": [],
   "source": [
    "#drop price day ahead col for corr matrix\n",
    "temp= final_df.drop([\"price day ahead\"], axis= 1)\n",
    "\n",
    "#Correlation matrix\n",
    "f, ax= plt.subplots(figsize= (15,15))\n",
    "corrMatrix = temp.corr()\n",
    "sns.heatmap(corrMatrix, annot=True, linewidths= .2, cmap=\"coolwarm\")\n",
    "plt.show()"
   ]
  },
  {
   "cell_type": "code",
   "execution_count": null,
   "id": "95feee27-52f3-49e0-9586-825ab4fff96c",
   "metadata": {},
   "outputs": [],
   "source": [
    "#View Correlation matrix with temperature data added into dataset\n",
    "corrMatrix = final_df.corr()\n",
    "\n",
    "#sort and remove price actual/price day ahead cols\n",
    "f, ax= plt.subplots(figsize= (12,5))\n",
    "corrMatrix[\"price actual\"].sort_values()[:-2].plot(kind= \"barh\");"
   ]
  },
  {
   "cell_type": "markdown",
   "id": "786fd83e-3e05-45d9-88f0-514d633b6447",
   "metadata": {},
   "source": [
    "Distribution of variables"
   ]
  },
  {
   "cell_type": "code",
   "execution_count": null,
   "id": "c9c649e0-a725-4601-b1f8-5d1d156f3778",
   "metadata": {},
   "outputs": [],
   "source": [
    "final_df.shape"
   ]
  },
  {
   "cell_type": "code",
   "execution_count": null,
   "id": "9a2b65bc-f020-4e56-abf8-50bb0f6eb4ae",
   "metadata": {},
   "outputs": [],
   "source": [
    "for col in final_df.columns:\n",
    "    final_df[col].plot(kind= \"hist\")"
   ]
  },
  {
   "cell_type": "code",
   "execution_count": null,
   "id": "ae8957a7-0b52-4806-96ad-48c7beec1558",
   "metadata": {},
   "outputs": [],
   "source": [
    "f, axs= plt.subplots(8,4, figsize = (20,40))\n",
    "axs= axs.flatten()\n",
    "\n",
    "for i, col in enumerate(final_df.columns):\n",
    "    final_df[col].plot.kde(ax= axs[i], color= \"blue\",)\n",
    "    axs[i].set_title(col)\n",
    "\n",
    "plt.tight_layout()"
   ]
  },
  {
   "cell_type": "code",
   "execution_count": null,
   "id": "f33790b0-6668-4b99-ba0c-daf50ea29399",
   "metadata": {},
   "outputs": [],
   "source": [
    "#Write final_df to csv\n",
    "path= \"../Data/\"\n",
    "final_df.to_csv(path + \"CleanedWeatherEnergyData.csv\",)"
   ]
  }
 ],
 "metadata": {
  "kernelspec": {
   "display_name": "PyTorch",
   "language": "python",
   "name": "pytorch"
  },
  "language_info": {
   "codemirror_mode": {
    "name": "ipython",
    "version": 3
   },
   "file_extension": ".py",
   "mimetype": "text/x-python",
   "name": "python",
   "nbconvert_exporter": "python",
   "pygments_lexer": "ipython3",
   "version": "3.8.12"
  }
 },
 "nbformat": 4,
 "nbformat_minor": 5
}
